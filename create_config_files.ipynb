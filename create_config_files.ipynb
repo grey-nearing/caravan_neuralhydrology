{
 "cells": [
  {
   "cell_type": "code",
   "execution_count": 1,
   "metadata": {},
   "outputs": [],
   "source": [
    "import os\n",
    "import pandas as pd\n",
    "import pickle as pkl\n",
    "import pathlib\n",
    "import shutil"
   ]
  },
  {
   "cell_type": "markdown",
   "metadata": {},
   "source": [
    "# Directory Structure"
   ]
  },
  {
   "cell_type": "code",
   "execution_count": 2,
   "metadata": {},
   "outputs": [],
   "source": [
    "# Path to working directory.\n",
    "working_dir = pathlib.Path('.')\n",
    "\n",
    "# Other useful directories.\n",
    "config_dir = working_dir / 'configs'\n",
    "\n",
    "# Template config file. This must be in working directory to avoid being deleted.\n",
    "template_config = working_dir / 'template_config.yml'\n",
    "\n",
    "# Basin list files.\n",
    "basin_list_dir = working_dir / 'basin_lists'\n",
    "full_basin_list_file = basin_list_dir / 'caravan_basins.txt'\n",
    "\n",
    "# Train/test split files.\n",
    "train_periods_file = working_dir / 'basin_lists' / 'train_periods.pkl'\n",
    "test_periods_file = working_dir / 'basin_lists' / 'test_periods.pkl'"
   ]
  },
  {
   "cell_type": "code",
   "execution_count": 3,
   "metadata": {},
   "outputs": [],
   "source": [
    "# Ensure that the  config directory exists and starts empty.\n",
    "if os.path.isdir(config_dir):\n",
    "    shutil.rmtree(config_dir)\n",
    "os.mkdir(config_dir)"
   ]
  },
  {
   "cell_type": "markdown",
   "metadata": {},
   "source": [
    "# Global Experiment Parameters"
   ]
  },
  {
   "cell_type": "code",
   "execution_count": 4,
   "metadata": {},
   "outputs": [
    {
     "ename": "FileNotFoundError",
     "evalue": "[Errno 2] No such file or directory: 'basin_lists/caravan_basins.txt'",
     "output_type": "error",
     "traceback": [
      "\u001b[0;31m---------------------------------------------------------------------------\u001b[0m",
      "\u001b[0;31mFileNotFoundError\u001b[0m                         Traceback (most recent call last)",
      "\u001b[0;32m/tmp/ipykernel_936228/2101238529.py\u001b[0m in \u001b[0;36m<module>\u001b[0;34m\u001b[0m\n\u001b[1;32m      1\u001b[0m \u001b[0;31m# Create per-basin train/test dates files.\u001b[0m\u001b[0;34m\u001b[0m\u001b[0;34m\u001b[0m\u001b[0;34m\u001b[0m\u001b[0m\n\u001b[0;32m----> 2\u001b[0;31m \u001b[0;32mwith\u001b[0m \u001b[0mopen\u001b[0m\u001b[0;34m(\u001b[0m\u001b[0mfull_basin_list_file\u001b[0m\u001b[0;34m,\u001b[0m \u001b[0;34m'rt'\u001b[0m\u001b[0;34m)\u001b[0m \u001b[0;32mas\u001b[0m \u001b[0mfp\u001b[0m\u001b[0;34m:\u001b[0m\u001b[0;34m\u001b[0m\u001b[0;34m\u001b[0m\u001b[0m\n\u001b[0m\u001b[1;32m      3\u001b[0m     \u001b[0mbasins\u001b[0m \u001b[0;34m=\u001b[0m \u001b[0;34m[\u001b[0m\u001b[0mbasin\u001b[0m\u001b[0;34m.\u001b[0m\u001b[0mstrip\u001b[0m\u001b[0;34m(\u001b[0m\u001b[0;34m)\u001b[0m \u001b[0;32mfor\u001b[0m \u001b[0mbasin\u001b[0m \u001b[0;32min\u001b[0m \u001b[0mfp\u001b[0m\u001b[0;34m.\u001b[0m\u001b[0mreadlines\u001b[0m\u001b[0;34m(\u001b[0m\u001b[0;34m)\u001b[0m\u001b[0;34m]\u001b[0m\u001b[0;34m\u001b[0m\u001b[0;34m\u001b[0m\u001b[0m\n\u001b[1;32m      4\u001b[0m \u001b[0mprint\u001b[0m\u001b[0;34m(\u001b[0m\u001b[0;34mf'There are {len(basins)} basins.'\u001b[0m\u001b[0;34m)\u001b[0m\u001b[0;34m\u001b[0m\u001b[0;34m\u001b[0m\u001b[0m\n",
      "\u001b[0;31mFileNotFoundError\u001b[0m: [Errno 2] No such file or directory: 'basin_lists/caravan_basins.txt'"
     ]
    }
   ],
   "source": [
    "# Create per-basin train/test dates files.\n",
    "with open(full_basin_list_file, 'rt') as fp:\n",
    "    basins = [basin.strip() for basin in fp.readlines()]\n",
    "print(f'There are {len(basins)} basins.')"
   ]
  },
  {
   "cell_type": "code",
   "execution_count": null,
   "metadata": {},
   "outputs": [],
   "source": [
    "# Number of ensemble members. Each ensemble is initialized with an explicit seed.\n",
    "n_ensemble = 1\n",
    "seeds = list(range(n_ensemble))\n",
    "\n",
    "# Number of PUB k-fold splits (from create_basin_list.ipynb notebook).\n",
    "pub_n_kfold = 7"
   ]
  },
  {
   "cell_type": "code",
   "execution_count": null,
   "metadata": {},
   "outputs": [
    {
     "data": {
      "text/plain": [
       "['camelscl', 'camelsbr', 'lamah', 'camelsgb', 'camelsaus', 'camels']"
      ]
     },
     "execution_count": 7,
     "metadata": {},
     "output_type": "execute_result"
    }
   ],
   "source": [
    "# List of countries in Caravan.\n",
    "countries = list(set([basin.split('_')[0] for basin in basins]))\n",
    "countries"
   ]
  },
  {
   "cell_type": "code",
   "execution_count": null,
   "metadata": {},
   "outputs": [],
   "source": [
    "train_periods = {basin: {\n",
    "    'start_dates': [pd.Timestamp('1980-01-01'), pd.Timestamp('2000-01-01')],\n",
    "    'end_dates': [pd.Timestamp('1989-01-01'), pd.Timestamp('2009-01-01')],\n",
    "    } for basin in basins}\n",
    "\n",
    "test_periods = {basin: {\n",
    "    'start_dates': [pd.Timestamp('1990-01-01'), pd.Timestamp('2010-01-01')],\n",
    "    'end_dates': [pd.Timestamp('1999-01-01'), pd.Timestamp('2020-12-31')],\n",
    "    } for basin in basins}\n",
    "\n",
    "with open(train_periods_file, 'wb') as fp:\n",
    "    pkl.dump(train_periods, fp)\n",
    "\n",
    "with open(test_periods_file, 'wb') as fp:\n",
    "    pkl.dump(test_periods, fp)"
   ]
  },
  {
   "cell_type": "markdown",
   "metadata": {},
   "source": [
    "# Full Model Run"
   ]
  },
  {
   "cell_type": "code",
   "execution_count": null,
   "metadata": {},
   "outputs": [
    {
     "name": "stdout",
     "output_type": "stream",
     "text": [
      "1 config files were created.\n"
     ]
    }
   ],
   "source": [
    "count = 0\n",
    "for ens in range(n_ensemble):\n",
    "\n",
    "    # Count the number of files created.\n",
    "    count += 1\n",
    "    \n",
    "    # Read the master config for simulation models.\n",
    "    with open(template_config, 'r') as f:\n",
    "        filedata = f.read()\n",
    "\n",
    "    # Change the run directory.\n",
    "    filedata = filedata.replace('run_dir: runs/dev', 'run_dir: runs/full_runs')\n",
    "    \n",
    "    # Change the random seed and experiment name.\n",
    "    filedata = filedata.replace('seed:', f'seed: {seeds[ens]}')\n",
    "    filedata = filedata.replace('experiment_name: template', f'experiment_name: {seeds[ens]}')\n",
    "    \n",
    "    # Save the resulting config file.\n",
    "    new_config = config_dir / f'full_run_{seeds[ens]}.yml'\n",
    "    with open(new_config, 'w') as f:\n",
    "        f.write(filedata)\n",
    "\n",
    "print(f'{count} config files were created.')"
   ]
  },
  {
   "cell_type": "markdown",
   "metadata": {},
   "source": [
    "# Country-Specific Runs"
   ]
  },
  {
   "cell_type": "code",
   "execution_count": null,
   "metadata": {},
   "outputs": [
    {
     "name": "stdout",
     "output_type": "stream",
     "text": [
      "7 config files were created.\n"
     ]
    }
   ],
   "source": [
    "count = 0\n",
    "for ens in range(n_ensemble):\n",
    "    for country in countries:\n",
    "\n",
    "        # Count the number of files created.\n",
    "        count += 1\n",
    "        \n",
    "        # Read the master config for simulation models.\n",
    "        with open(template_config, 'r') as f:\n",
    "            filedata = f.read()\n",
    "\n",
    "        # Change the run directory.\n",
    "        filedata = filedata.replace('run_dir: runs/dev', 'run_dir: runs/country_runs')\n",
    "        \n",
    "        # Change the random seed and experiment name.\n",
    "        filedata = filedata.replace('seed:', f'seed: {seeds[ens]}')\n",
    "        filedata = filedata.replace('experiment_name: template', f'experiment_name: {country}_{seeds[ens]}')\n",
    "        \n",
    "        # Change the random seed and experiment name.\n",
    "        filedata = filedata.replace('train_basin_file: basin_lists/caravan_basins.txt', \n",
    "                                    f'train_basin_file: basin_lists/countries/caravan_{country}_basins.txt')\n",
    "        \n",
    "        # Save the resulting config file.\n",
    "        new_config = config_dir / f'{country}_{seeds[ens]}.yml'\n",
    "        with open(new_config, 'w') as f:\n",
    "            f.write(filedata)\n",
    "\n",
    "print(f'{count} config files were created.')"
   ]
  },
  {
   "cell_type": "code",
   "execution_count": null,
   "metadata": {},
   "outputs": [
    {
     "name": "stdout",
     "output_type": "stream",
     "text": [
      "7 config files were created.\n"
     ]
    }
   ],
   "source": [
    "count = 0\n",
    "for ens in range(n_ensemble):\n",
    "    for country in countries:\n",
    "\n",
    "        # Count the number of files created.\n",
    "        count += 1\n",
    "        \n",
    "        # Read the master config for simulation models.\n",
    "        with open(template_config, 'r') as f:\n",
    "            filedata = f.read()\n",
    "\n",
    "        # Change the run directory.\n",
    "        filedata = filedata.replace('run_dir: runs/dev', 'run_dir: runs/country_runs')\n",
    "        \n",
    "        # Change the random seed and experiment name.\n",
    "        filedata = filedata.replace('seed:', f'seed: {seeds[ens]}')\n",
    "        filedata = filedata.replace('experiment_name: template', f'experiment_name: except_{country}_{seeds[ens]}')\n",
    "        \n",
    "        # Change the random seed and experiment name.\n",
    "        filedata = filedata.replace('train_basin_file: basin_lists/caravan_basins.txt', \n",
    "                                    f'train_basin_file: basin_lists/countries/caravan_except_{country}_basins.txt')\n",
    "        \n",
    "        # Save the resulting config file.\n",
    "        new_config = config_dir / f'except_{country}_{seeds[ens]}.yml'\n",
    "        with open(new_config, 'w') as f:\n",
    "            f.write(filedata)\n",
    "\n",
    "print(f'{count} config files were created.')"
   ]
  },
  {
   "cell_type": "markdown",
   "metadata": {},
   "source": [
    "# PUB Runs"
   ]
  },
  {
   "cell_type": "code",
   "execution_count": null,
   "metadata": {},
   "outputs": [
    {
     "name": "stdout",
     "output_type": "stream",
     "text": [
      "7 config files were created.\n"
     ]
    }
   ],
   "source": [
    "count = 0\n",
    "for ens in range(n_ensemble):\n",
    "    for kfold in range(pub_n_kfold):\n",
    "\n",
    "        # Count the number of files created.\n",
    "        count += 1\n",
    "        \n",
    "        # Read the master config for simulation models.\n",
    "        with open(template_config, 'r') as f:\n",
    "            filedata = f.read()\n",
    "\n",
    "        # Change the run directory.\n",
    "        filedata = filedata.replace('run_dir: runs/dev', 'run_dir: runs/random_runs')\n",
    "        \n",
    "        # Change the random seed and experiment name.\n",
    "        filedata = filedata.replace('seed:', f'seed: {seeds[ens]}')\n",
    "        filedata = filedata.replace('experiment_name: template', f'experiment_name: pub_{kfold}_{seeds[ens]}')\n",
    "        \n",
    "        # Change the random seed and experiment name.\n",
    "        filedata = filedata.replace('train_basin_file: basin_lists/caravan_basins.txt', \n",
    "                                    f'train_basin_file: basin_lists/pub/train_{kfold}_{ens}.txt')\n",
    "                                    \n",
    "        # Save the resulting config file.\n",
    "        new_config = config_dir / f'pub_{kfold}_{seeds[ens]}.yml'\n",
    "\n",
    "        with open(new_config, 'w') as f:\n",
    "            f.write(filedata)\n",
    "\n",
    "print(f'{count} config files were created.')"
   ]
  },
  {
   "cell_type": "code",
   "execution_count": null,
   "metadata": {},
   "outputs": [],
   "source": []
  }
 ],
 "metadata": {
  "interpreter": {
   "hash": "1cdbf8d702bbb6c2366774f4bc257bbfbc37d6fac5c790621b439124159965a8"
  },
  "kernelspec": {
   "display_name": "Python 3.7.13 ('neuralhydrology')",
   "language": "python",
   "name": "python3"
  },
  "language_info": {
   "codemirror_mode": {
    "name": "ipython",
    "version": 3
   },
   "file_extension": ".py",
   "mimetype": "text/x-python",
   "name": "python",
   "nbconvert_exporter": "python",
   "pygments_lexer": "ipython3",
   "version": "3.7.13"
  },
  "orig_nbformat": 4
 },
 "nbformat": 4,
 "nbformat_minor": 2
}
