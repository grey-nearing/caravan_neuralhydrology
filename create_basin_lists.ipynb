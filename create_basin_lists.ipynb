{
 "cells": [
  {
   "cell_type": "markdown",
   "metadata": {},
   "source": [
    "# Imports"
   ]
  },
  {
   "cell_type": "code",
   "execution_count": 1,
   "metadata": {},
   "outputs": [],
   "source": [
    "# Import neuralhydrology stuff.\n",
    "import os\n",
    "import random\n",
    "from sklearn import model_selection\n",
    "import sys\n",
    "from neuralhydrology.datasetzoo import caravan"
   ]
  },
  {
   "cell_type": "markdown",
   "metadata": {},
   "source": [
    "# Storage Directory"
   ]
  },
  {
   "cell_type": "code",
   "execution_count": 2,
   "metadata": {},
   "outputs": [],
   "source": [
    "# Where to put the basin lists.\n",
    "basin_list_dir = 'basin_lists'\n",
    "if not os.path.isdir(basin_list_dir):\n",
    "    os.mkdir(basin_list_dir)"
   ]
  },
  {
   "cell_type": "markdown",
   "metadata": {},
   "source": [
    "# Load Caravan Data"
   ]
  },
  {
   "cell_type": "code",
   "execution_count": 3,
   "metadata": {},
   "outputs": [
    {
     "name": "stdout",
     "output_type": "stream",
     "text": [
      "There are 2425 basins.\n"
     ]
    }
   ],
   "source": [
    "# Get attributes.\n",
    "attributes = caravan.load_caravan_attributes(data_dir='data')\n",
    "attributes.dropna(inplace=True)\n",
    "\n",
    "# Basins are attributes index.\n",
    "basins = list(attributes.index)\n",
    "print(f'There are {len(basins)} basins.')"
   ]
  },
  {
   "cell_type": "markdown",
   "metadata": {},
   "source": [
    "# Write Basin Lists"
   ]
  },
  {
   "cell_type": "markdown",
   "metadata": {},
   "source": [
    "## Full Caravan Basin List"
   ]
  },
  {
   "cell_type": "code",
   "execution_count": null,
   "metadata": {},
   "outputs": [],
   "source": [
    "# All Caravan basins.\n",
    "basin_list_file = os.path.join(basin_list_dir, 'caravan_basins.txt')\n",
    "with open(basin_list_file, 'wt') as f:\n",
    "    for basin in basins:\n",
    "        f.write(basin + '\\n')"
   ]
  },
  {
   "cell_type": "markdown",
   "metadata": {},
   "source": [
    "## Per-Country Basin Lists"
   ]
  },
  {
   "cell_type": "code",
   "execution_count": null,
   "metadata": {},
   "outputs": [],
   "source": [
    "# Per-country basin lists.\n",
    "\n",
    "# Where to put the country basin lists.\n",
    "countries_basin_list_dir = os.path.join(basin_list_dir, 'countries')\n",
    "if not os.path.isdir(countries_basin_list_dir):\n",
    "    os.mkdir(countries_basin_list_dir)\n",
    "\n",
    "countries = list(set([basin.split('_')[0] for basin in basins]))\n",
    "\n",
    "for country in countries:\n",
    "    basin_list_file = os.path.join(countries_basin_list_dir, f'caravan_{country}_basins.txt')\n",
    "    with open(basin_list_file, 'wt') as f:\n",
    "        for basin in [basin for basin in basins if basin.startswith(f'{country}_')]:\n",
    "            f.write(basin + '\\n')"
   ]
  },
  {
   "cell_type": "markdown",
   "metadata": {},
   "source": [
    "## Small Development Basin Lists"
   ]
  },
  {
   "cell_type": "code",
   "execution_count": null,
   "metadata": {},
   "outputs": [],
   "source": [
    "# Dev set.\n",
    "\n",
    "# Where to put the dev basin lists.\n",
    "dev_basin_list_dir = os.path.join(basin_list_dir, 'dev')\n",
    "if not os.path.isdir(dev_basin_list_dir):\n",
    "    os.mkdir(dev_basin_list_dir)\n",
    "\n",
    "length_of_dev_sets = [3, 6, 36]\n",
    "\n",
    "for length in length_of_dev_sets:\n",
    "    dev_basins = random.choices(basins, k=length)\n",
    "    basin_list_file = os.path.join(dev_basin_list_dir, f'{length}_dev_basins.txt')\n",
    "    with open(basin_list_file, 'wt') as f:\n",
    "        for basin in dev_basins:\n",
    "            f.write(basin + '\\n')"
   ]
  },
  {
   "cell_type": "markdown",
   "metadata": {},
   "source": [
    "## PUB K-Fold Basin Lists"
   ]
  },
  {
   "cell_type": "code",
   "execution_count": null,
   "metadata": {},
   "outputs": [],
   "source": [
    "# Number of k-fold splits for PUB experiments\n",
    "pub_n_kfold = 10\n",
    "\n",
    "# Number of random seeds.\n",
    "ensembles = 10\n",
    "\n",
    "# Where to put the PUB basin lists.\n",
    "pub_basin_list_dir = os.path.join(basin_list_dir, 'pub')\n",
    "if not os.path.isdir(pub_basin_list_dir):\n",
    "    os.mkdir(pub_basin_list_dir)"
   ]
  },
  {
   "cell_type": "code",
   "execution_count": null,
   "metadata": {},
   "outputs": [],
   "source": [
    "for ens in range(ensembles):\n",
    "\n",
    "    # Create a separate split for each ensemble member.\n",
    "    kf = model_selection.KFold(n_splits=pub_n_kfold, random_state=None, shuffle=True)\n",
    "\n",
    "    for kfold, (train_index, test_index) in enumerate(kf.split(basins)):\n",
    "        \n",
    "        # Basin files.\n",
    "        train_basin_file = os.path.join(pub_basin_list_dir, f'train_kfold:{kfold}_ens:{ens}.txt')\n",
    "        test_basin_file = os.path.join(pub_basin_list_dir, f'test_kfold:{kfold}_ens:{ens}.txt')\n",
    "\n",
    "        # Write.\n",
    "        with open(train_basin_file, 'wt') as fp:\n",
    "            for idx in train_index:\n",
    "                fp.write(f\"{basins[idx]}\\n\")\n",
    "\n",
    "        with open(test_basin_file, 'wt') as fp:\n",
    "            for idx in test_index:\n",
    "                fp.write(f\"{basins[idx]}\\n\")  \n"
   ]
  },
  {
   "cell_type": "markdown",
   "metadata": {},
   "source": [
    "## No South America"
   ]
  },
  {
   "cell_type": "code",
   "execution_count": null,
   "metadata": {},
   "outputs": [],
   "source": [
    "# All Caravan basins.\n",
    "basin_list_file = os.path.join(basin_list_dir, 'caravan_basins_no_south_america.txt')\n",
    "with open(basin_list_file, 'wt') as f:\n",
    "    for basin in basins:\n",
    "        if basin.startswith('br_') or basin.startswith('cl_'):\n",
    "            continue\n",
    "        f.write(basin + '\\n')"
   ]
  },
  {
   "cell_type": "code",
   "execution_count": null,
   "metadata": {},
   "outputs": [],
   "source": []
  }
 ],
 "metadata": {
  "interpreter": {
   "hash": "31f2aee4e71d21fbe5cf8b01ff0e069b9275f58929596ceb00d14d90e3e16cd6"
  },
  "kernelspec": {
   "display_name": "Python 3.9.9 64-bit",
   "language": "python",
   "name": "python3"
  },
  "language_info": {
   "codemirror_mode": {
    "name": "ipython",
    "version": 3
   },
   "file_extension": ".py",
   "mimetype": "text/x-python",
   "name": "python",
   "nbconvert_exporter": "python",
   "pygments_lexer": "ipython3",
   "version": "3.9.11"
  },
  "orig_nbformat": 4
 },
 "nbformat": 4,
 "nbformat_minor": 2
}
