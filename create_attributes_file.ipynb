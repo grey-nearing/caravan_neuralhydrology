{
 "cells": [
  {
   "cell_type": "code",
   "execution_count": null,
   "metadata": {},
   "outputs": [],
   "source": []
  }
 ],
 "metadata": {
  "interpreter": {
   "hash": "1cdbf8d702bbb6c2366774f4bc257bbfbc37d6fac5c790621b439124159965a8"
  },
  "kernelspec": {
   "display_name": "Python 3.9.11 ('neuralhydrology')",
   "language": "python",
   "name": "python3"
  },
  "language_info": {
   "name": "python",
   "version": "3.9.11"
  },
  "orig_nbformat": 4
 },
 "nbformat": 4,
 "nbformat_minor": 2
}
